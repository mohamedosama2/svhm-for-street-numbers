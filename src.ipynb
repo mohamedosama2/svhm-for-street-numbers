{
 "cells": [
  {
   "cell_type": "code",
   "execution_count": 1,
   "metadata": {},
   "outputs": [
    {
     "name": "stderr",
     "output_type": "stream",
     "text": [
      "Using TensorFlow backend.\n",
      "c:\\users\\dclap\\pycharmprojects\\emotion_recognition\\venv\\lib\\site-packages\\tensorflow\\python\\framework\\dtypes.py:516: FutureWarning: Passing (type, 1) or '1type' as a synonym of type is deprecated; in a future version of numpy, it will be understood as (type, (1,)) / '(1,)type'.\n",
      "  _np_qint8 = np.dtype([(\"qint8\", np.int8, 1)])\n",
      "c:\\users\\dclap\\pycharmprojects\\emotion_recognition\\venv\\lib\\site-packages\\tensorflow\\python\\framework\\dtypes.py:517: FutureWarning: Passing (type, 1) or '1type' as a synonym of type is deprecated; in a future version of numpy, it will be understood as (type, (1,)) / '(1,)type'.\n",
      "  _np_quint8 = np.dtype([(\"quint8\", np.uint8, 1)])\n",
      "c:\\users\\dclap\\pycharmprojects\\emotion_recognition\\venv\\lib\\site-packages\\tensorflow\\python\\framework\\dtypes.py:518: FutureWarning: Passing (type, 1) or '1type' as a synonym of type is deprecated; in a future version of numpy, it will be understood as (type, (1,)) / '(1,)type'.\n",
      "  _np_qint16 = np.dtype([(\"qint16\", np.int16, 1)])\n",
      "c:\\users\\dclap\\pycharmprojects\\emotion_recognition\\venv\\lib\\site-packages\\tensorflow\\python\\framework\\dtypes.py:519: FutureWarning: Passing (type, 1) or '1type' as a synonym of type is deprecated; in a future version of numpy, it will be understood as (type, (1,)) / '(1,)type'.\n",
      "  _np_quint16 = np.dtype([(\"quint16\", np.uint16, 1)])\n",
      "c:\\users\\dclap\\pycharmprojects\\emotion_recognition\\venv\\lib\\site-packages\\tensorflow\\python\\framework\\dtypes.py:520: FutureWarning: Passing (type, 1) or '1type' as a synonym of type is deprecated; in a future version of numpy, it will be understood as (type, (1,)) / '(1,)type'.\n",
      "  _np_qint32 = np.dtype([(\"qint32\", np.int32, 1)])\n",
      "c:\\users\\dclap\\pycharmprojects\\emotion_recognition\\venv\\lib\\site-packages\\tensorflow\\python\\framework\\dtypes.py:525: FutureWarning: Passing (type, 1) or '1type' as a synonym of type is deprecated; in a future version of numpy, it will be understood as (type, (1,)) / '(1,)type'.\n",
      "  np_resource = np.dtype([(\"resource\", np.ubyte, 1)])\n",
      "c:\\users\\dclap\\pycharmprojects\\emotion_recognition\\venv\\lib\\site-packages\\tensorboard\\compat\\tensorflow_stub\\dtypes.py:541: FutureWarning: Passing (type, 1) or '1type' as a synonym of type is deprecated; in a future version of numpy, it will be understood as (type, (1,)) / '(1,)type'.\n",
      "  _np_qint8 = np.dtype([(\"qint8\", np.int8, 1)])\n",
      "c:\\users\\dclap\\pycharmprojects\\emotion_recognition\\venv\\lib\\site-packages\\tensorboard\\compat\\tensorflow_stub\\dtypes.py:542: FutureWarning: Passing (type, 1) or '1type' as a synonym of type is deprecated; in a future version of numpy, it will be understood as (type, (1,)) / '(1,)type'.\n",
      "  _np_quint8 = np.dtype([(\"quint8\", np.uint8, 1)])\n",
      "c:\\users\\dclap\\pycharmprojects\\emotion_recognition\\venv\\lib\\site-packages\\tensorboard\\compat\\tensorflow_stub\\dtypes.py:543: FutureWarning: Passing (type, 1) or '1type' as a synonym of type is deprecated; in a future version of numpy, it will be understood as (type, (1,)) / '(1,)type'.\n",
      "  _np_qint16 = np.dtype([(\"qint16\", np.int16, 1)])\n",
      "c:\\users\\dclap\\pycharmprojects\\emotion_recognition\\venv\\lib\\site-packages\\tensorboard\\compat\\tensorflow_stub\\dtypes.py:544: FutureWarning: Passing (type, 1) or '1type' as a synonym of type is deprecated; in a future version of numpy, it will be understood as (type, (1,)) / '(1,)type'.\n",
      "  _np_quint16 = np.dtype([(\"quint16\", np.uint16, 1)])\n",
      "c:\\users\\dclap\\pycharmprojects\\emotion_recognition\\venv\\lib\\site-packages\\tensorboard\\compat\\tensorflow_stub\\dtypes.py:545: FutureWarning: Passing (type, 1) or '1type' as a synonym of type is deprecated; in a future version of numpy, it will be understood as (type, (1,)) / '(1,)type'.\n",
      "  _np_qint32 = np.dtype([(\"qint32\", np.int32, 1)])\n",
      "c:\\users\\dclap\\pycharmprojects\\emotion_recognition\\venv\\lib\\site-packages\\tensorboard\\compat\\tensorflow_stub\\dtypes.py:550: FutureWarning: Passing (type, 1) or '1type' as a synonym of type is deprecated; in a future version of numpy, it will be understood as (type, (1,)) / '(1,)type'.\n",
      "  np_resource = np.dtype([(\"resource\", np.ubyte, 1)])\n"
     ]
    }
   ],
   "source": [
    "#import packages\n",
    "import numpy as np\n",
    "from keras.datasets import mnist\n",
    "from keras.models import Sequential\n",
    "from keras.layers import Dense,Dropout,Flatten\n",
    "from keras.layers.convolutional import Conv2D,MaxPooling2D\n",
    "from keras.callbacks import EarlyStopping,ModelCheckpoint\n",
    "from sklearn.model_selection import train_test_split\n",
    "from keras.utils import to_categorical\n",
    "import matplotlib.pyplot as plt\n",
    "import cv2\n",
    "import numpy as np\n",
    "import scipy.io"
   ]
  },
  {
   "cell_type": "code",
   "execution_count": 2,
   "metadata": {},
   "outputs": [],
   "source": [
    "#load the data\n",
    "x={}\n",
    "\n",
    "mat = scipy.io.loadmat('data/extra_32x32.mat')\n",
    "for i in range(0,500000):\n",
    "    x[i]=mat['X'][:,:,:,i].reshape(32,32,3)\n"
   ]
  },
  {
   "cell_type": "code",
   "execution_count": 3,
   "metadata": {},
   "outputs": [],
   "source": [
    "#make the label of '0' to 0    \n",
    "for i in range(1,500000):\n",
    "    if mat['y'][i]==10:\n",
    "        mat['y'][i]=0    \n",
    "\n",
    "#load the labels 0:9\n",
    "y={}\n",
    "for i in range(0,500000):\n",
    "    y[i]=mat['y'][i]        "
   ]
  },
  {
   "cell_type": "code",
   "execution_count": 4,
   "metadata": {},
   "outputs": [
    {
     "name": "stderr",
     "output_type": "stream",
     "text": [
      "c:\\users\\dclap\\pycharmprojects\\emotion_recognition\\venv\\lib\\site-packages\\matplotlib\\text.py:1150: FutureWarning: elementwise comparison failed; returning scalar instead, but in the future will perform elementwise comparison\n",
      "  if s != self._text:\n"
     ]
    },
    {
     "data": {
      "image/png": "[encoded data removed]",
      "text/plain": [
       "<Figure size 432x288 with 6 Axes>"
      ]
     },
     "metadata": {
      "needs_background": "light"
     },
     "output_type": "display_data"
    }
   ],
   "source": [
    "#showing some of data\n",
    "fig = plt.figure()\n",
    "fig.subplots_adjust(hspace=0.7, wspace=0.7)\n",
    "for i in range (1,7):\n",
    "    ax = fig.add_subplot(2, 3, i)\n",
    "    plt.imshow(x[i].reshape(32,32,3))\n",
    "    plt.title(y[i])"
   ]
  },
  {
   "cell_type": "code",
   "execution_count": 4,
   "metadata": {},
   "outputs": [],
   "source": [
    "#split the data\n",
    "x_train, x_test, y_train, y_test = train_test_split(x , y, test_size=0.25, random_state=42)"
   ]
  },
  {
   "cell_type": "code",
   "execution_count": 5,
   "metadata": {},
   "outputs": [],
   "source": [
    "#changing the lists to numpy array\n",
    "x_train=np.array(x_train)\n",
    "x_test=np.array(x_test)\n",
    "y_train=np.array(y_train)\n",
    "y_test=np.array(y_test)"
   ]
  },
  {
   "cell_type": "code",
   "execution_count": 6,
   "metadata": {},
   "outputs": [],
   "source": [
    "#make the data float\n",
    "x_train=x_train.astype('float32')\n",
    "x_test=x_test.astype('float32')"
   ]
  },
  {
   "cell_type": "code",
   "execution_count": 9,
   "metadata": {},
   "outputs": [],
   "source": [
    "#function to change the rgb images into grey scale image\n",
    "def rgb2gray(rgb):\n",
    "\n",
    "    r, g, b = rgb[:,:,0], rgb[:,:,1], rgb[:,:,2]\n",
    "    gray = 0.2989 * r + 0.5870 * g + 0.1140 * b\n",
    "\n",
    "    return gray"
   ]
  },
  {
   "cell_type": "code",
   "execution_count": null,
   "metadata": {},
   "outputs": [],
   "source": [
    "#convert color on trainng\n",
    "x_train1=np.zeros(shape=(375000,32,32))\n",
    "for i in range (0,375000):\n",
    "    x_train1[i]=rgb2gray(x_train[i])\n"
   ]
  },
  {
   "cell_type": "code",
   "execution_count": 10,
   "metadata": {},
   "outputs": [],
   "source": [
    "#convert color of testing \n",
    "x_test1=np.zeros(shape=(125000,32,32))\n",
    "for i in range (0,125000):\n",
    "    x_test1[i]=rgb2gray(x_test[i])"
   ]
  },
  {
   "cell_type": "code",
   "execution_count": 11,
   "metadata": {},
   "outputs": [],
   "source": [
    "x_test1=x_test1.reshape(125000,32,32,1)\n",
    "x_train1=x_train1.reshape(375000,32,32,1)     "
   ]
  },
  {
   "cell_type": "code",
   "execution_count": 12,
   "metadata": {},
   "outputs": [],
   "source": [
    "x_train=x_train/255\n",
    "x_test=x_test/255"
   ]
  },
  {
   "cell_type": "code",
   "execution_count": 13,
   "metadata": {},
   "outputs": [
    {
     "data": {
      "text/plain": [
       "(125000, 10)"
      ]
     },
     "execution_count": 13,
     "metadata": {},
     "output_type": "execute_result"
    }
   ],
   "source": [
    "#preprocessing for the labels\n",
    "y_test=to_categorical(y_test,num_classes=10)\n",
    "y_train=to_categorical(y_train,num_classes=10)\n",
    "y_test.shape"
   ]
  },
  {
   "cell_type": "code",
   "execution_count": 14,
   "metadata": {},
   "outputs": [
    {
     "name": "stdout",
     "output_type": "stream",
     "text": [
      "WARNING:tensorflow:From c:\\users\\dclap\\pycharmprojects\\emotion_recognition\\venv\\lib\\site-packages\\keras\\backend\\tensorflow_backend.py:66: The name tf.get_default_graph is deprecated. Please use tf.compat.v1.get_default_graph instead.\n",
      "\n",
      "WARNING:tensorflow:From c:\\users\\dclap\\pycharmprojects\\emotion_recognition\\venv\\lib\\site-packages\\keras\\backend\\tensorflow_backend.py:541: The name tf.placeholder is deprecated. Please use tf.compat.v1.placeholder instead.\n",
      "\n",
      "WARNING:tensorflow:From c:\\users\\dclap\\pycharmprojects\\emotion_recognition\\venv\\lib\\site-packages\\keras\\backend\\tensorflow_backend.py:4432: The name tf.random_uniform is deprecated. Please use tf.random.uniform instead.\n",
      "\n",
      "WARNING:tensorflow:From c:\\users\\dclap\\pycharmprojects\\emotion_recognition\\venv\\lib\\site-packages\\keras\\backend\\tensorflow_backend.py:4267: The name tf.nn.max_pool is deprecated. Please use tf.nn.max_pool2d instead.\n",
      "\n",
      "WARNING:tensorflow:From c:\\users\\dclap\\pycharmprojects\\emotion_recognition\\venv\\lib\\site-packages\\keras\\backend\\tensorflow_backend.py:148: The name tf.placeholder_with_default is deprecated. Please use tf.compat.v1.placeholder_with_default instead.\n",
      "\n",
      "WARNING:tensorflow:From c:\\users\\dclap\\pycharmprojects\\emotion_recognition\\venv\\lib\\site-packages\\keras\\backend\\tensorflow_backend.py:3733: calling dropout (from tensorflow.python.ops.nn_ops) with keep_prob is deprecated and will be removed in a future version.\n",
      "Instructions for updating:\n",
      "Please use `rate` instead of `keep_prob`. Rate should be set to `rate = 1 - keep_prob`.\n",
      "Model: \"sequential_1\"\n",
      "_________________________________________________________________\n",
      "Layer (type)                 Output Shape              Param #   \n",
      "=================================================================\n",
      "conv2d_1 (Conv2D)            (None, 28, 28, 30)        780       \n",
      "_________________________________________________________________\n",
      "max_pooling2d_1 (MaxPooling2 (None, 14, 14, 30)        0         \n",
      "_________________________________________________________________\n",
      "conv2d_2 (Conv2D)            (None, 12, 12, 15)        4065      \n",
      "_________________________________________________________________\n",
      "max_pooling2d_2 (MaxPooling2 (None, 6, 6, 15)          0         \n",
      "_________________________________________________________________\n",
      "dropout_1 (Dropout)          (None, 6, 6, 15)          0         \n",
      "_________________________________________________________________\n",
      "flatten_1 (Flatten)          (None, 540)               0         \n",
      "_________________________________________________________________\n",
      "dense_1 (Dense)              (None, 128)               69248     \n",
      "_________________________________________________________________\n",
      "dense_2 (Dense)              (None, 50)                6450      \n",
      "_________________________________________________________________\n",
      "dense_3 (Dense)              (None, 10)                510       \n",
      "=================================================================\n",
      "Total params: 81,053\n",
      "Trainable params: 81,053\n",
      "Non-trainable params: 0\n",
      "_________________________________________________________________\n",
      "WARNING:tensorflow:From c:\\users\\dclap\\pycharmprojects\\emotion_recognition\\venv\\lib\\site-packages\\keras\\optimizers.py:793: The name tf.train.Optimizer is deprecated. Please use tf.compat.v1.train.Optimizer instead.\n",
      "\n",
      "WARNING:tensorflow:From c:\\users\\dclap\\pycharmprojects\\emotion_recognition\\venv\\lib\\site-packages\\keras\\backend\\tensorflow_backend.py:3576: The name tf.log is deprecated. Please use tf.math.log instead.\n",
      "\n"
     ]
    }
   ],
   "source": [
    "#the model\n",
    "model=Sequential()\n",
    "\n",
    "#1st convolution layer\n",
    "model.add(Conv2D(30, (5, 5), input_shape=(32,32,1), activation='relu',))\n",
    "model.add(MaxPooling2D(pool_size=(2,2)))\n",
    " \n",
    "#2rd convolution layer\n",
    "model.add(Conv2D(15, (3, 3), activation='relu'))\n",
    "model.add(MaxPooling2D(pool_size=(2,2)))\n",
    "model.add(Dropout(0.2))\n",
    "#flatten\n",
    "model.add(Flatten())\n",
    "#layer 1\n",
    "model.add(Dense(128,activation='relu')) \n",
    "#layer 2\n",
    "model.add(Dense(50,activation='relu'))\n",
    "model.add(Dense(10,activation='softmax'))\n",
    "model.summary()\n",
    "model.compile(loss='categorical_crossentropy', optimizer='adam',metrics=['accuracy'])\n",
    "\n",
    "\n",
    "es=EarlyStopping(monitor='val_loss',mode='min',verbose=1,patience=10,min_delta=0.0001)\n",
    "mc=ModelCheckpoint('best_model21.hdf5',monitor='val_acc',verbose=1,save_best_only=True,mode='max')\n"
   ]
  },
  {
   "cell_type": "code",
   "execution_count": 15,
   "metadata": {},
   "outputs": [
    {
     "name": "stdout",
     "output_type": "stream",
     "text": [
      "WARNING:tensorflow:From c:\\users\\dclap\\pycharmprojects\\emotion_recognition\\venv\\lib\\site-packages\\tensorflow\\python\\ops\\math_grad.py:1250: add_dispatch_support.<locals>.wrapper (from tensorflow.python.ops.array_ops) is deprecated and will be removed in a future version.\n",
      "Instructions for updating:\n",
      "Use tf.where in 2.0, which has the same broadcast rule as np.where\n",
      "Train on 375000 samples, validate on 125000 samples\n",
      "Epoch 1/50\n",
      "375000/375000 [==============================] - 2978s 8ms/step - loss: 0.5907 - acc: 0.8261 - val_loss: 0.2356 - val_acc: 0.9349\n",
      "\n",
      "Epoch 00001: val_acc improved from -inf to 0.93492, saving model to best_model21.hdf5\n",
      "Epoch 2/50\n",
      "375000/375000 [==============================] - 556s 1ms/step - loss: 0.2495 - acc: 0.9293 - val_loss: 0.1825 - val_acc: 0.9497\n",
      "\n",
      "Epoch 00002: val_acc improved from 0.93492 to 0.94969, saving model to best_model21.hdf5\n",
      "Epoch 3/50\n",
      "375000/375000 [==============================] - 400s 1ms/step - loss: 0.2026 - acc: 0.9424 - val_loss: 0.1640 - val_acc: 0.9553\n",
      "\n",
      "Epoch 00003: val_acc improved from 0.94969 to 0.95527, saving model to best_model21.hdf5\n",
      "Epoch 4/50\n",
      "375000/375000 [==============================] - 399s 1ms/step - loss: 0.1827 - acc: 0.9484 - val_loss: 0.1511 - val_acc: 0.9599\n",
      "\n",
      "Epoch 00004: val_acc improved from 0.95527 to 0.95994, saving model to best_model21.hdf5\n",
      "Epoch 5/50\n",
      "375000/375000 [==============================] - 406s 1ms/step - loss: 0.1696 - acc: 0.9519 - val_loss: 0.1517 - val_acc: 0.9588\n",
      "\n",
      "Epoch 00005: val_acc did not improve from 0.95994\n",
      "Epoch 6/50\n",
      "375000/375000 [==============================] - 405s 1ms/step - loss: 0.1591 - acc: 0.9549 - val_loss: 0.1326 - val_acc: 0.9646\n",
      "\n",
      "Epoch 00006: val_acc improved from 0.95994 to 0.96459, saving model to best_model21.hdf5\n",
      "Epoch 7/50\n",
      "375000/375000 [==============================] - 401s 1ms/step - loss: 0.1520 - acc: 0.9566 - val_loss: 0.1401 - val_acc: 0.9630\n",
      "\n",
      "Epoch 00007: val_acc did not improve from 0.96459\n",
      "Epoch 8/50\n",
      "375000/375000 [==============================] - 404s 1ms/step - loss: 0.1445 - acc: 0.9589 - val_loss: 0.1381 - val_acc: 0.9631\n",
      "\n",
      "Epoch 00008: val_acc did not improve from 0.96459\n",
      "Epoch 9/50\n",
      "375000/375000 [==============================] - 400s 1ms/step - loss: 0.1410 - acc: 0.9597 - val_loss: 0.1340 - val_acc: 0.9649\n",
      "\n",
      "Epoch 00009: val_acc improved from 0.96459 to 0.96490, saving model to best_model21.hdf5\n",
      "Epoch 10/50\n",
      "375000/375000 [==============================] - 401s 1ms/step - loss: 0.1375 - acc: 0.9604 - val_loss: 0.1305 - val_acc: 0.9658\n",
      "\n",
      "Epoch 00010: val_acc improved from 0.96490 to 0.96583, saving model to best_model21.hdf5\n",
      "Epoch 11/50\n",
      "375000/375000 [==============================] - 407s 1ms/step - loss: 0.1322 - acc: 0.9621 - val_loss: 0.1267 - val_acc: 0.9669\n",
      "\n",
      "Epoch 00011: val_acc improved from 0.96583 to 0.96689, saving model to best_model21.hdf5\n",
      "Epoch 12/50\n",
      "375000/375000 [==============================] - 403s 1ms/step - loss: 0.1293 - acc: 0.9630 - val_loss: 0.1248 - val_acc: 0.9671\n",
      "\n",
      "Epoch 00012: val_acc improved from 0.96689 to 0.96714, saving model to best_model21.hdf5\n",
      "Epoch 13/50\n",
      "375000/375000 [==============================] - 396s 1ms/step - loss: 0.1257 - acc: 0.9641 - val_loss: 0.1179 - val_acc: 0.9696\n",
      "\n",
      "Epoch 00013: val_acc improved from 0.96714 to 0.96963, saving model to best_model21.hdf5\n",
      "Epoch 14/50\n",
      "375000/375000 [==============================] - 408s 1ms/step - loss: 0.1230 - acc: 0.9649 - val_loss: 0.1229 - val_acc: 0.9681\n",
      "\n",
      "Epoch 00014: val_acc did not improve from 0.96963\n",
      "Epoch 15/50\n",
      "375000/375000 [==============================] - 434s 1ms/step - loss: 0.1215 - acc: 0.9654 - val_loss: 0.1255 - val_acc: 0.9669\n",
      "\n",
      "Epoch 00015: val_acc did not improve from 0.96963\n",
      "Epoch 16/50\n",
      "375000/375000 [==============================] - 468s 1ms/step - loss: 0.1185 - acc: 0.9661 - val_loss: 0.1223 - val_acc: 0.9682\n",
      "\n",
      "Epoch 00016: val_acc did not improve from 0.96963\n",
      "Epoch 17/50\n",
      "375000/375000 [==============================] - 279s 744us/step - loss: 0.1161 - acc: 0.9669 - val_loss: 0.1186 - val_acc: 0.9696\n",
      "\n",
      "Epoch 00017: val_acc improved from 0.96963 to 0.96964, saving model to best_model21.hdf5\n",
      "Epoch 18/50\n",
      "375000/375000 [==============================] - 275s 733us/step - loss: 0.1148 - acc: 0.9673 - val_loss: 0.1213 - val_acc: 0.9686\n",
      "\n",
      "Epoch 00018: val_acc did not improve from 0.96964\n",
      "Epoch 19/50\n",
      "375000/375000 [==============================] - 271s 722us/step - loss: 0.1139 - acc: 0.9674 - val_loss: 0.1188 - val_acc: 0.9700\n",
      "\n",
      "Epoch 00019: val_acc improved from 0.96964 to 0.97000, saving model to best_model21.hdf5\n",
      "Epoch 20/50\n",
      "375000/375000 [==============================] - 289s 770us/step - loss: 0.1124 - acc: 0.9680 - val_loss: 0.1234 - val_acc: 0.9681\n",
      "\n",
      "Epoch 00020: val_acc did not improve from 0.97000\n",
      "Epoch 21/50\n",
      "375000/375000 [==============================] - 271s 724us/step - loss: 0.1118 - acc: 0.9678 - val_loss: 0.1216 - val_acc: 0.9690\n",
      "\n",
      "Epoch 00021: val_acc did not improve from 0.97000\n",
      "Epoch 22/50\n",
      "375000/375000 [==============================] - 272s 726us/step - loss: 0.1089 - acc: 0.9687 - val_loss: 0.1201 - val_acc: 0.9692\n",
      "\n",
      "Epoch 00022: val_acc did not improve from 0.97000\n",
      "Epoch 23/50\n",
      "375000/375000 [==============================] - 265s 706us/step - loss: 0.1083 - acc: 0.9690 - val_loss: 0.1207 - val_acc: 0.9691\n",
      "\n",
      "Epoch 00023: val_acc did not improve from 0.97000\n",
      "Epoch 00023: early stopping\n"
     ]
    }
   ],
   "source": [
    "#fitting the data\n",
    "history=model.fit(x_train1, y_train, validation_data=(x_test1, y_test),callbacks=[es,mc], epochs=50, batch_size=200,verbose=1)"
   ]
  },
  {
   "cell_type": "code",
   "execution_count": 16,
   "metadata": {},
   "outputs": [
    {
     "name": "stdout",
     "output_type": "stream",
     "text": [
      "Test loss: 0.12068154388238489\n",
      "Test accuracy: 0.96908\n"
     ]
    }
   ],
   "source": [
    "test_eval = model.evaluate(x_test1, y_test, verbose=0)\n",
    "print('Test loss:', test_eval[0])\n",
    "print('Test accuracy:', test_eval[1])"
   ]
  },
  {
   "cell_type": "code",
   "execution_count": null,
   "metadata": {},
   "outputs": [],
   "source": []
  }
 ],
 "metadata": {
  "kernelspec": {
   "display_name": "Python 3",
   "language": "python",
   "name": "python3"
  },
  "language_info": {
   "codemirror_mode": {
    "name": "ipython",
    "version": 3
   },
   "file_extension": ".py",
   "mimetype": "text/x-python",
   "name": "python",
   "nbconvert_exporter": "python",
   "pygments_lexer": "ipython3",
   "version": "3.6.8"
  }
 },
 "nbformat": 4,
 "nbformat_minor": 2
}
